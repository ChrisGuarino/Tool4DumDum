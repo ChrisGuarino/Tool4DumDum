{
 "cells": [
  {
   "cell_type": "code",
   "execution_count": 1,
   "metadata": {},
   "outputs": [
    {
     "name": "stdout",
     "output_type": "stream",
     "text": [
      "2024-04-08 10:23:52 - Anonymized telemetry enabled. See                     https://docs.trychroma.com/telemetry for more information.\n"
     ]
    }
   ],
   "source": [
    "from langchain.prompts import ChatPromptTemplate\n",
    "from langchain.schema.runnable import Runnable\n",
    "from langchain.schema.runnable.config import RunnableConfig\n",
    "import chainlit as cl\n",
    "from langchain_community.chat_models import ChatOllama\n",
    "from langchain_core.output_parsers import StrOutputParser\n",
    "from langchain_community.embeddings import GPT4AllEmbeddings\n",
    "from langchain_community.vectorstores import Chroma\n",
    "from langchain_community.document_loaders import PyPDFLoader\n",
    "\n",
    "loader = PyPDFLoader(\"./testdir/2304.08485.pdf\")\n",
    "pages = loader.load_and_split()\n",
    "\n",
    "\n",
    "\n",
    "vectorstore = Chroma.from_documents(documents=pages, embedding=GPT4AllEmbeddings())\n",
    "\n",
    "def format_docs(docs):\n",
    "    return \"\\n\\n\".join(doc.page_content for doc in docs)\n",
    "\n",
    "#######"
   ]
  },
  {
   "cell_type": "code",
   "execution_count": 2,
   "metadata": {},
   "outputs": [],
   "source": [
    "@cl.on_chat_start\n",
    "async def on_chat_start():\n",
    "    model = ChatOllama(model=\"llama2\")\n",
    "    prompt = ChatPromptTemplate.from_messages(\n",
    "        [\n",
    "            (\n",
    "                \"system\",\n",
    "                \"You're a troubleshooting guide for semiconductor manufacturing tools.\",\n",
    "            ),\n",
    "            (\"human\", \"{question}\"),\n",
    "        ]\n",
    "    )\n",
    "    runnable = {\"docs\": format_docs} | prompt | model | StrOutputParser()\n",
    "    cl.user_session.set(\"runnable\", runnable)\n"
   ]
  },
  {
   "cell_type": "code",
   "execution_count": 3,
   "metadata": {},
   "outputs": [],
   "source": [
    "@cl.on_message\n",
    "async def on_message(message: cl.Message):\n",
    "    question = message.content  # The user's query is now defined as 'question'\n",
    "    docs = vectorstore.similarity_search(question)  # Perform the search based on the query\n",
    "    formatted_docs = format_docs(docs)  # Format the retrieved documents\n",
    "    \n",
    "    # Now, integrate `formatted_docs` with your chat model as context for generating a response.\n",
    "    # This part might require adjustments based on the expected format of `ChatOllama` and runnable configuration.\n",
    "\n",
    "    runnable = cl.user_session.get(\"runnable\")  # Ensure this is correctly initialized and configured to use `formatted_docs`.\n",
    "\n",
    "    msg = cl.Message(content=\"\")\n",
    "\n",
    "    async for chunk in runnable.astream(\n",
    "        {\"question\": message.content, \"context\": formatted_docs},  # Assuming `astream` can accept additional context.\n",
    "        config=RunnableConfig(callbacks=[cl.LangchainCallbackHandler()]),\n",
    "    ):\n",
    "        await msg.stream_token(chunk)\n",
    "\n",
    "    await msg.send()"
   ]
  },
  {
   "cell_type": "code",
   "execution_count": null,
   "metadata": {},
   "outputs": [],
   "source": []
  }
 ],
 "metadata": {
  "kernelspec": {
   "display_name": "langchain_env",
   "language": "python",
   "name": "python3"
  },
  "language_info": {
   "codemirror_mode": {
    "name": "ipython",
    "version": 3
   },
   "file_extension": ".py",
   "mimetype": "text/x-python",
   "name": "python",
   "nbconvert_exporter": "python",
   "pygments_lexer": "ipython3",
   "version": "3.9.19"
  }
 },
 "nbformat": 4,
 "nbformat_minor": 2
}
